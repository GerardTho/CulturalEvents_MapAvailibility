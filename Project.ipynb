{
 "cells": [
  {
   "cell_type": "markdown",
   "id": "3636c478-5a7b-4686-83ff-9b198c9734de",
   "metadata": {
    "tags": []
   },
   "source": [
    "# Evenements culturels : Création d'une carte interactive"
   ]
  },
  {
   "cell_type": "markdown",
   "id": "4fdd7de8-7de7-4932-9d41-a0da5314862f",
   "metadata": {},
   "source": [
    "Durant ce projet, nous allons utiliser la base de données répertoriant les évènements culturels en île de France (https://data.iledefrance.fr/explore/dataset/evenements-publics-cibul/table/) pour extraire les différents évènements et récupérer les informations importantes comme la date, le prix, ou le sujet et les mettre sous des formes faciles à utiliser.\n",
    "\n",
    "Tout d'abord, nous allons import le dataframe et récupérer les informations que nous pouvons principalement grâce à des expressions régulières et à du web scraping. Ensuite, pour obtenir le sujet des évènements nous allons utiliser du NLP en trouvant les termes revenant le plus souvent. Finalement, nous finirons par analyser les données trouvées."
   ]
  },
  {
   "cell_type": "markdown",
   "id": "20320b24-139d-4d53-b9c7-c7731a3d18e9",
   "metadata": {
    "tags": []
   },
   "source": [
    "from datetime import time## Installations et imports de modules"
   ]
  },
  {
   "cell_type": "code",
   "execution_count": 1,
   "id": "eb2f2b2c-1731-43d4-b0c2-ffcab6c63c6a",
   "metadata": {},
   "outputs": [
    {
     "name": "stdout",
     "output_type": "stream",
     "text": [
      "Requirement already satisfied: geopy in /opt/conda/lib/python3.9/site-packages (2.2.0)\n",
      "Requirement already satisfied: geographiclib<2,>=1.49 in /opt/conda/lib/python3.9/site-packages (from geopy) (1.52)\n",
      "Requirement already satisfied: nltk in /opt/conda/lib/python3.9/site-packages (3.6.7)\n",
      "Requirement already satisfied: tqdm in /opt/conda/lib/python3.9/site-packages (from nltk) (4.62.3)\n",
      "Requirement already satisfied: joblib in /opt/conda/lib/python3.9/site-packages (from nltk) (1.1.0)\n",
      "Requirement already satisfied: regex>=2021.8.3 in /opt/conda/lib/python3.9/site-packages (from nltk) (2021.11.10)\n",
      "Requirement already satisfied: click in /opt/conda/lib/python3.9/site-packages (from nltk) (8.0.3)\n",
      "Requirement already satisfied: pywaffle in /opt/conda/lib/python3.9/site-packages (0.6.4)\n",
      "Requirement already satisfied: matplotlib in /opt/conda/lib/python3.9/site-packages (from pywaffle) (3.4.3)\n",
      "Requirement already satisfied: kiwisolver>=1.0.1 in /opt/conda/lib/python3.9/site-packages (from matplotlib->pywaffle) (1.3.2)\n",
      "Requirement already satisfied: pillow>=6.2.0 in /opt/conda/lib/python3.9/site-packages (from matplotlib->pywaffle) (8.4.0)\n",
      "Requirement already satisfied: python-dateutil>=2.7 in /opt/conda/lib/python3.9/site-packages (from matplotlib->pywaffle) (2.8.2)\n",
      "Requirement already satisfied: numpy>=1.16 in /opt/conda/lib/python3.9/site-packages (from matplotlib->pywaffle) (1.20.3)\n",
      "Requirement already satisfied: cycler>=0.10 in /opt/conda/lib/python3.9/site-packages (from matplotlib->pywaffle) (0.11.0)\n",
      "Requirement already satisfied: pyparsing>=2.2.1 in /opt/conda/lib/python3.9/site-packages (from matplotlib->pywaffle) (2.4.7)\n",
      "Requirement already satisfied: six>=1.5 in /opt/conda/lib/python3.9/site-packages (from python-dateutil>=2.7->matplotlib->pywaffle) (1.16.0)\n"
     ]
    },
    {
     "name": "stderr",
     "output_type": "stream",
     "text": [
      "[nltk_data] Downloading package punkt to /home/jovyan/nltk_data...\n",
      "[nltk_data]   Package punkt is already up-to-date!\n",
      "[nltk_data] Downloading package stopwords to /home/jovyan/nltk_data...\n",
      "[nltk_data]   Package stopwords is already up-to-date!\n"
     ]
    },
    {
     "name": "stdout",
     "output_type": "stream",
     "text": [
      "Requirement already satisfied: spacy in /opt/conda/lib/python3.9/site-packages (3.1.4)\n",
      "Requirement already satisfied: wasabi<1.1.0,>=0.8.1 in /opt/conda/lib/python3.9/site-packages (from spacy) (0.9.0)\n",
      "Requirement already satisfied: catalogue<2.1.0,>=2.0.6 in /opt/conda/lib/python3.9/site-packages (from spacy) (2.0.6)\n",
      "Requirement already satisfied: thinc<8.1.0,>=8.0.12 in /opt/conda/lib/python3.9/site-packages (from spacy) (8.0.13)\n",
      "Requirement already satisfied: setuptools in /opt/conda/lib/python3.9/site-packages (from spacy) (58.5.3)\n",
      "Requirement already satisfied: spacy-legacy<3.1.0,>=3.0.8 in /opt/conda/lib/python3.9/site-packages (from spacy) (3.0.8)\n",
      "Requirement already satisfied: packaging>=20.0 in /opt/conda/lib/python3.9/site-packages (from spacy) (21.2)\n",
      "Requirement already satisfied: pydantic!=1.8,!=1.8.1,<1.9.0,>=1.7.4 in /opt/conda/lib/python3.9/site-packages (from spacy) (1.8.2)\n",
      "Requirement already satisfied: numpy>=1.15.0 in /opt/conda/lib/python3.9/site-packages (from spacy) (1.20.3)\n",
      "Requirement already satisfied: murmurhash<1.1.0,>=0.28.0 in /opt/conda/lib/python3.9/site-packages (from spacy) (1.0.6)\n",
      "Requirement already satisfied: blis<0.8.0,>=0.4.0 in /opt/conda/lib/python3.9/site-packages (from spacy) (0.7.5)\n",
      "Requirement already satisfied: requests<3.0.0,>=2.13.0 in /opt/conda/lib/python3.9/site-packages (from spacy) (2.26.0)\n",
      "Requirement already satisfied: preshed<3.1.0,>=3.0.2 in /opt/conda/lib/python3.9/site-packages (from spacy) (3.0.6)\n",
      "Requirement already satisfied: srsly<3.0.0,>=2.4.1 in /opt/conda/lib/python3.9/site-packages (from spacy) (2.4.2)\n",
      "Requirement already satisfied: typer<0.5.0,>=0.3.0 in /opt/conda/lib/python3.9/site-packages (from spacy) (0.4.0)\n",
      "Requirement already satisfied: pathy>=0.3.5 in /opt/conda/lib/python3.9/site-packages (from spacy) (0.6.1)\n",
      "Requirement already satisfied: tqdm<5.0.0,>=4.38.0 in /opt/conda/lib/python3.9/site-packages (from spacy) (4.62.3)\n",
      "Requirement already satisfied: cymem<2.1.0,>=2.0.2 in /opt/conda/lib/python3.9/site-packages (from spacy) (2.0.6)\n",
      "Requirement already satisfied: jinja2 in /opt/conda/lib/python3.9/site-packages (from spacy) (3.0.3)\n",
      "Requirement already satisfied: pyparsing<3,>=2.0.2 in /opt/conda/lib/python3.9/site-packages (from packaging>=20.0->spacy) (2.4.7)\n",
      "Requirement already satisfied: smart-open<6.0.0,>=5.0.0 in /opt/conda/lib/python3.9/site-packages (from pathy>=0.3.5->spacy) (5.2.1)\n",
      "Requirement already satisfied: typing-extensions>=3.7.4.3 in /opt/conda/lib/python3.9/site-packages (from pydantic!=1.8,!=1.8.1,<1.9.0,>=1.7.4->spacy) (3.10.0.2)\n",
      "Requirement already satisfied: idna<4,>=2.5 in /opt/conda/lib/python3.9/site-packages (from requests<3.0.0,>=2.13.0->spacy) (3.1)\n",
      "Requirement already satisfied: charset-normalizer~=2.0.0 in /opt/conda/lib/python3.9/site-packages (from requests<3.0.0,>=2.13.0->spacy) (2.0.0)\n",
      "Requirement already satisfied: urllib3<1.27,>=1.21.1 in /opt/conda/lib/python3.9/site-packages (from requests<3.0.0,>=2.13.0->spacy) (1.26.7)\n",
      "Requirement already satisfied: certifi>=2017.4.17 in /opt/conda/lib/python3.9/site-packages (from requests<3.0.0,>=2.13.0->spacy) (2021.10.8)\n",
      "Requirement already satisfied: click<9.0.0,>=7.1.1 in /opt/conda/lib/python3.9/site-packages (from typer<0.5.0,>=0.3.0->spacy) (8.0.3)\n",
      "Requirement already satisfied: MarkupSafe>=2.0 in /opt/conda/lib/python3.9/site-packages (from jinja2->spacy) (2.0.1)\n",
      "Collecting https://github.com/explosion/spacy-models/releases/download/fr_core_news_sm-3.1.0/fr_core_news_sm-3.1.0.tar.gz\n",
      "  Downloading https://github.com/explosion/spacy-models/releases/download/fr_core_news_sm-3.1.0/fr_core_news_sm-3.1.0.tar.gz (17.1 MB)\n",
      "     |████████████████████████████████| 17.1 MB 17 kB/s             \n",
      "\u001b[?25h  Preparing metadata (setup.py) ... \u001b[?25ldone\n",
      "\u001b[?25hRequirement already satisfied: spacy<3.2.0,>=3.1.0 in /opt/conda/lib/python3.9/site-packages (from fr-core-news-sm==3.1.0) (3.1.4)\n",
      "Requirement already satisfied: thinc<8.1.0,>=8.0.12 in /opt/conda/lib/python3.9/site-packages (from spacy<3.2.0,>=3.1.0->fr-core-news-sm==3.1.0) (8.0.13)\n",
      "Requirement already satisfied: pydantic!=1.8,!=1.8.1,<1.9.0,>=1.7.4 in /opt/conda/lib/python3.9/site-packages (from spacy<3.2.0,>=3.1.0->fr-core-news-sm==3.1.0) (1.8.2)\n",
      "Requirement already satisfied: srsly<3.0.0,>=2.4.1 in /opt/conda/lib/python3.9/site-packages (from spacy<3.2.0,>=3.1.0->fr-core-news-sm==3.1.0) (2.4.2)\n",
      "Requirement already satisfied: pathy>=0.3.5 in /opt/conda/lib/python3.9/site-packages (from spacy<3.2.0,>=3.1.0->fr-core-news-sm==3.1.0) (0.6.1)\n",
      "Requirement already satisfied: typer<0.5.0,>=0.3.0 in /opt/conda/lib/python3.9/site-packages (from spacy<3.2.0,>=3.1.0->fr-core-news-sm==3.1.0) (0.4.0)\n",
      "Requirement already satisfied: requests<3.0.0,>=2.13.0 in /opt/conda/lib/python3.9/site-packages (from spacy<3.2.0,>=3.1.0->fr-core-news-sm==3.1.0) (2.26.0)\n",
      "Requirement already satisfied: wasabi<1.1.0,>=0.8.1 in /opt/conda/lib/python3.9/site-packages (from spacy<3.2.0,>=3.1.0->fr-core-news-sm==3.1.0) (0.9.0)\n",
      "Requirement already satisfied: cymem<2.1.0,>=2.0.2 in /opt/conda/lib/python3.9/site-packages (from spacy<3.2.0,>=3.1.0->fr-core-news-sm==3.1.0) (2.0.6)\n",
      "Requirement already satisfied: preshed<3.1.0,>=3.0.2 in /opt/conda/lib/python3.9/site-packages (from spacy<3.2.0,>=3.1.0->fr-core-news-sm==3.1.0) (3.0.6)\n",
      "Requirement already satisfied: blis<0.8.0,>=0.4.0 in /opt/conda/lib/python3.9/site-packages (from spacy<3.2.0,>=3.1.0->fr-core-news-sm==3.1.0) (0.7.5)\n",
      "Requirement already satisfied: numpy>=1.15.0 in /opt/conda/lib/python3.9/site-packages (from spacy<3.2.0,>=3.1.0->fr-core-news-sm==3.1.0) (1.20.3)\n",
      "Requirement already satisfied: spacy-legacy<3.1.0,>=3.0.8 in /opt/conda/lib/python3.9/site-packages (from spacy<3.2.0,>=3.1.0->fr-core-news-sm==3.1.0) (3.0.8)\n",
      "Requirement already satisfied: murmurhash<1.1.0,>=0.28.0 in /opt/conda/lib/python3.9/site-packages (from spacy<3.2.0,>=3.1.0->fr-core-news-sm==3.1.0) (1.0.6)\n",
      "Requirement already satisfied: tqdm<5.0.0,>=4.38.0 in /opt/conda/lib/python3.9/site-packages (from spacy<3.2.0,>=3.1.0->fr-core-news-sm==3.1.0) (4.62.3)\n",
      "Requirement already satisfied: packaging>=20.0 in /opt/conda/lib/python3.9/site-packages (from spacy<3.2.0,>=3.1.0->fr-core-news-sm==3.1.0) (21.2)\n",
      "Requirement already satisfied: setuptools in /opt/conda/lib/python3.9/site-packages (from spacy<3.2.0,>=3.1.0->fr-core-news-sm==3.1.0) (58.5.3)\n",
      "Requirement already satisfied: catalogue<2.1.0,>=2.0.6 in /opt/conda/lib/python3.9/site-packages (from spacy<3.2.0,>=3.1.0->fr-core-news-sm==3.1.0) (2.0.6)\n",
      "Requirement already satisfied: jinja2 in /opt/conda/lib/python3.9/site-packages (from spacy<3.2.0,>=3.1.0->fr-core-news-sm==3.1.0) (3.0.3)\n",
      "Requirement already satisfied: pyparsing<3,>=2.0.2 in /opt/conda/lib/python3.9/site-packages (from packaging>=20.0->spacy<3.2.0,>=3.1.0->fr-core-news-sm==3.1.0) (2.4.7)\n",
      "Requirement already satisfied: smart-open<6.0.0,>=5.0.0 in /opt/conda/lib/python3.9/site-packages (from pathy>=0.3.5->spacy<3.2.0,>=3.1.0->fr-core-news-sm==3.1.0) (5.2.1)\n",
      "Requirement already satisfied: typing-extensions>=3.7.4.3 in /opt/conda/lib/python3.9/site-packages (from pydantic!=1.8,!=1.8.1,<1.9.0,>=1.7.4->spacy<3.2.0,>=3.1.0->fr-core-news-sm==3.1.0) (3.10.0.2)\n",
      "Requirement already satisfied: idna<4,>=2.5 in /opt/conda/lib/python3.9/site-packages (from requests<3.0.0,>=2.13.0->spacy<3.2.0,>=3.1.0->fr-core-news-sm==3.1.0) (3.1)\n",
      "Requirement already satisfied: charset-normalizer~=2.0.0 in /opt/conda/lib/python3.9/site-packages (from requests<3.0.0,>=2.13.0->spacy<3.2.0,>=3.1.0->fr-core-news-sm==3.1.0) (2.0.0)\n",
      "Requirement already satisfied: certifi>=2017.4.17 in /opt/conda/lib/python3.9/site-packages (from requests<3.0.0,>=2.13.0->spacy<3.2.0,>=3.1.0->fr-core-news-sm==3.1.0) (2021.10.8)\n",
      "Requirement already satisfied: urllib3<1.27,>=1.21.1 in /opt/conda/lib/python3.9/site-packages (from requests<3.0.0,>=2.13.0->spacy<3.2.0,>=3.1.0->fr-core-news-sm==3.1.0) (1.26.7)\n",
      "Requirement already satisfied: click<9.0.0,>=7.1.1 in /opt/conda/lib/python3.9/site-packages (from typer<0.5.0,>=0.3.0->spacy<3.2.0,>=3.1.0->fr-core-news-sm==3.1.0) (8.0.3)\n",
      "Requirement already satisfied: MarkupSafe>=2.0 in /opt/conda/lib/python3.9/site-packages (from jinja2->spacy<3.2.0,>=3.1.0->fr-core-news-sm==3.1.0) (2.0.1)\n"
     ]
    }
   ],
   "source": [
    "# Trivia\n",
    "import pandas as pd\n",
    "import numpy as np\n",
    "from collections import Counter\n",
    "\n",
    "# Regex\n",
    "import re\n",
    "\n",
    "# API, data import\n",
    "import urllib\n",
    "import bs4\n",
    "from urllib import request\n",
    "import requests\n",
    "\n",
    "# User informations\n",
    "import sys\n",
    "!{sys.executable} -m pip install geopy\n",
    "import geopy\n",
    "from geopy.geocoders import Nominatim\n",
    "from geopy import distance\n",
    "import datetime as dt\n",
    "\n",
    "# Plotting\n",
    "import seaborn as sns\n",
    "import matplotlib.pyplot as plt\n",
    "import base64\n",
    "import string\n",
    "import re\n",
    "\n",
    "# Natural Language Processing\n",
    "!pip install nltk\n",
    "import nltk\n",
    "from nltk.corpus import stopwords\n",
    "from time import time\n",
    "#from sklearn.feature_extraction.stop_words import ENGLISH_STOP_WORDS as stopwords\n",
    "from sklearn.metrics import log_loss\n",
    "import matplotlib.pyplot as plt\n",
    "!pip install pywaffle\n",
    "from pywaffle import Waffle\n",
    "from nltk.stem import WordNetLemmatizer\n",
    "from sklearn.feature_extraction.text import TfidfVectorizer, CountVectorizer\n",
    "from sklearn.decomposition import NMF, LatentDirichletAllocation\n",
    "\n",
    "nltk.download('punkt')\n",
    "nltk.download('stopwords')\n",
    "stop_words = set(stopwords.words('french'))\n",
    "\n",
    "!pip install spacy\n",
    "!pip install https://github.com/explosion/spacy-models/releases/download/fr_core_news_sm-3.1.0/fr_core_news_sm-3.1.0.tar.gz\n",
    "\n",
    "import spacy\n",
    "\n",
    "nlp = spacy.load(\"fr_core_news_sm\")"
   ]
  },
  {
   "cell_type": "markdown",
   "id": "ddc55106-72f0-426d-a55d-2c818bea9144",
   "metadata": {
    "tags": []
   },
   "source": [
    "## Données : Collecte et Nettoyage"
   ]
  },
  {
   "cell_type": "code",
   "execution_count": 58,
   "id": "f432cb4c-e4b4-44dc-8b78-d1e04da5c677",
   "metadata": {},
   "outputs": [],
   "source": [
    "class User:\n",
    "    ''' The User Class allows us to store every piece of information about the User '''\n",
    "    \n",
    "    def __init__(self, address, date, price_max = 42):\n",
    "        geolocator = Nominatim(user_agent=\"CulturalEvents\")\n",
    "        location = geolocator.geocode(address)\n",
    "        self.latlon = (location.latitude, location.longitude)\n",
    "        self.date = date\n",
    "        self.price_max = price_max\n",
    "        \n",
    "Naclanga = User(\"27 Boulevard Thomas Gobert, Palaiseau\", dt.date.today())"
   ]
  },
  {
   "cell_type": "code",
   "execution_count": 60,
   "id": "3f5b917b-fee0-4310-ba4c-d9a99d7b4ecc",
   "metadata": {},
   "outputs": [
    {
     "data": {
      "text/html": [
       "<div>\n",
       "<style scoped>\n",
       "    .dataframe tbody tr th:only-of-type {\n",
       "        vertical-align: middle;\n",
       "    }\n",
       "\n",
       "    .dataframe tbody tr th {\n",
       "        vertical-align: top;\n",
       "    }\n",
       "\n",
       "    .dataframe thead th {\n",
       "        text-align: right;\n",
       "    }\n",
       "</style>\n",
       "<table border=\"1\" class=\"dataframe\">\n",
       "  <thead>\n",
       "    <tr style=\"text-align: right;\">\n",
       "      <th></th>\n",
       "      <th>title</th>\n",
       "      <th>latlon</th>\n",
       "      <th>date_start</th>\n",
       "      <th>tags</th>\n",
       "      <th>pricing_info</th>\n",
       "      <th>description</th>\n",
       "      <th>link</th>\n",
       "      <th>free_text</th>\n",
       "      <th>address</th>\n",
       "      <th>department</th>\n",
       "      <th>placename</th>\n",
       "      <th>region</th>\n",
       "      <th>date_end</th>\n",
       "      <th>lang</th>\n",
       "      <th>geometry.type</th>\n",
       "      <th>geometry.coordinates</th>\n",
       "      <th>city_district</th>\n",
       "    </tr>\n",
       "  </thead>\n",
       "  <tbody>\n",
       "    <tr>\n",
       "      <th>0</th>\n",
       "      <td>Actif!</td>\n",
       "      <td>[48.867609, 2.352198]</td>\n",
       "      <td>2022-01-11</td>\n",
       "      <td>Exposition</td>\n",
       "      <td>Sur inscription</td>\n",
       "      <td>Lorem ipsum dolor sit amet, consectetur adipis...</td>\n",
       "      <td>http://openagenda.com/event/actif</td>\n",
       "      <td>Lorem ipsum dolor sit amet, consectetur adipis...</td>\n",
       "      <td>29 passage du ponceau, paris</td>\n",
       "      <td>NaN</td>\n",
       "      <td>Test OA</td>\n",
       "      <td>Île-de-France</td>\n",
       "      <td>2022-01-11</td>\n",
       "      <td>fr</td>\n",
       "      <td>Point</td>\n",
       "      <td>[2.352198, 48.867609]</td>\n",
       "      <td>Paris 2e Arrondissement</td>\n",
       "    </tr>\n",
       "    <tr>\n",
       "      <th>1</th>\n",
       "      <td>LE ROI LOUIS REND SON ÂME</td>\n",
       "      <td>[48.84834, 2.351983]</td>\n",
       "      <td>2022-01-11</td>\n",
       "      <td>NaN</td>\n",
       "      <td>NaN</td>\n",
       "      <td>Un jour dans l’histoire.</td>\n",
       "      <td>http://openagenda.com/event/le-roi-louis-rend-...</td>\n",
       "      <td>Informations\\r\\n\\r\\nhttps://www.collegedesbern...</td>\n",
       "      <td>20 Rue de Poissy, 75005 Paris, France</td>\n",
       "      <td>Paris</td>\n",
       "      <td>Collège des Bernardins</td>\n",
       "      <td>Île-de-France</td>\n",
       "      <td>2022-01-11</td>\n",
       "      <td>fr</td>\n",
       "      <td>Point</td>\n",
       "      <td>[2.351983, 48.84834]</td>\n",
       "      <td>5e Arrondissement</td>\n",
       "    </tr>\n",
       "    <tr>\n",
       "      <th>2</th>\n",
       "      <td>La Genèse de Vienne, un exemple de recherche i...</td>\n",
       "      <td>[48.866484, 2.338931]</td>\n",
       "      <td>2022-01-11</td>\n",
       "      <td>La Fabrique de l’art : utilisation des données...</td>\n",
       "      <td>NaN</td>\n",
       "      <td>Séminaire</td>\n",
       "      <td>http://openagenda.com/event/la-genese-de-vienn...</td>\n",
       "      <td>La Genèse de Vienne est un manuscrit écrit à l...</td>\n",
       "      <td>2, rue Vivienne ou 6 rue des Petits Champs</td>\n",
       "      <td>Paris</td>\n",
       "      <td>Institut national d'histoire de l'art - Galeri...</td>\n",
       "      <td>Île-de-France</td>\n",
       "      <td>2022-01-11</td>\n",
       "      <td>fr</td>\n",
       "      <td>Point</td>\n",
       "      <td>[2.338931, 48.866484]</td>\n",
       "      <td>Paris 2e Arrondissement</td>\n",
       "    </tr>\n",
       "    <tr>\n",
       "      <th>3</th>\n",
       "      <td>Les étapes clés de la création d'entreprise</td>\n",
       "      <td>[48.787838, 2.050474]</td>\n",
       "      <td>2022-01-11</td>\n",
       "      <td>NaN</td>\n",
       "      <td>Participation gratuite - Inscription obligatoire</td>\n",
       "      <td>Animé par BGE Yvelines</td>\n",
       "      <td>http://openagenda.com/event/les-etapes-cles-de...</td>\n",
       "      <td>De l'idée au business plan, du financement au ...</td>\n",
       "      <td>3, avenue du centre guyancourt</td>\n",
       "      <td>Yvelines</td>\n",
       "      <td>Webinaire SQY Cub</td>\n",
       "      <td>Île-de-France</td>\n",
       "      <td>2022-01-11</td>\n",
       "      <td>fr</td>\n",
       "      <td>Point</td>\n",
       "      <td>[2.050474, 48.787838]</td>\n",
       "      <td>NaN</td>\n",
       "    </tr>\n",
       "    <tr>\n",
       "      <th>4</th>\n",
       "      <td>GRANDES VOIX DE LA POÉSIE CONTEMPORAINE</td>\n",
       "      <td>[48.800506, 2.131408]</td>\n",
       "      <td>2022-01-11</td>\n",
       "      <td>NaN</td>\n",
       "      <td>Sur inscription  (Cycle de 6 conférences Tarif...</td>\n",
       "      <td>Un nouvel espace pour le poème : Philippe Jacc...</td>\n",
       "      <td>http://openagenda.com/event/grandes-voix-de-la...</td>\n",
       "      <td>Un nouvel espace pour le poème : Philippe Jacc...</td>\n",
       "      <td>6 impasse des Gendarmes, entrée B 78000 Versai...</td>\n",
       "      <td>Yvelines</td>\n",
       "      <td>Université Ouverte de Versailles</td>\n",
       "      <td>Île-de-France</td>\n",
       "      <td>2022-01-11</td>\n",
       "      <td>fr</td>\n",
       "      <td>Point</td>\n",
       "      <td>[2.131408, 48.800506]</td>\n",
       "      <td>Chantiers</td>\n",
       "    </tr>\n",
       "    <tr>\n",
       "      <th>...</th>\n",
       "      <td>...</td>\n",
       "      <td>...</td>\n",
       "      <td>...</td>\n",
       "      <td>...</td>\n",
       "      <td>...</td>\n",
       "      <td>...</td>\n",
       "      <td>...</td>\n",
       "      <td>...</td>\n",
       "      <td>...</td>\n",
       "      <td>...</td>\n",
       "      <td>...</td>\n",
       "      <td>...</td>\n",
       "      <td>...</td>\n",
       "      <td>...</td>\n",
       "      <td>...</td>\n",
       "      <td>...</td>\n",
       "      <td>...</td>\n",
       "    </tr>\n",
       "    <tr>\n",
       "      <th>157</th>\n",
       "      <td>Spectacle : Fabrice Eboué</td>\n",
       "      <td>[48.825113, 2.269746]</td>\n",
       "      <td>2022-01-06</td>\n",
       "      <td>Fabrice Eboué,humour,one man show</td>\n",
       "      <td>NaN</td>\n",
       "      <td>Découvrez son nouveau spectacle !</td>\n",
       "      <td>http://openagenda.com/event/spectacle-fabrice-...</td>\n",
       "      <td>Fabrice Eboué est un humoriste, metteur en scè...</td>\n",
       "      <td>11-13 rue Danton, 92130 Issy-les-Moulineaux</td>\n",
       "      <td>Hauts-de-Seine</td>\n",
       "      <td>Auditorium Niedermeyer</td>\n",
       "      <td>Île-de-France</td>\n",
       "      <td>2022-01-06</td>\n",
       "      <td>fr</td>\n",
       "      <td>Point</td>\n",
       "      <td>[2.269746, 48.825113]</td>\n",
       "      <td>Quartier Centre-Ville / Corentin Celton / Les ...</td>\n",
       "    </tr>\n",
       "    <tr>\n",
       "      <th>158</th>\n",
       "      <td>BLOCKCHAIN, DU THÉÂTRE AU FLASH CRASH</td>\n",
       "      <td>[48.712856, 2.164843]</td>\n",
       "      <td>2022-01-06</td>\n",
       "      <td>Théâtre  Création scènique,Danse. vidéos</td>\n",
       "      <td>Gratuit sur inscription - pour 10-12 étudiants...</td>\n",
       "      <td>Participer activement aux premières étapes d’u...</td>\n",
       "      <td>http://openagenda.com/event/blockchain-du-thea...</td>\n",
       "      <td>Ce Projet Interdisciplinaire Collectif propose...</td>\n",
       "      <td>4 avenue des Sciences - Gif-sur-Yvette</td>\n",
       "      <td>Essonne</td>\n",
       "      <td>ENS Paris-Saclay</td>\n",
       "      <td>Île-de-France</td>\n",
       "      <td>2022-04-15</td>\n",
       "      <td>fr</td>\n",
       "      <td>Point</td>\n",
       "      <td>[2.164843, 48.712856]</td>\n",
       "      <td>NaN</td>\n",
       "    </tr>\n",
       "    <tr>\n",
       "      <th>159</th>\n",
       "      <td>L'ATLANTIQUE / LA TRAVERSÉE</td>\n",
       "      <td>[48.835058, 2.450684]</td>\n",
       "      <td>2022-01-06</td>\n",
       "      <td>NaN</td>\n",
       "      <td>payant, sur réservation</td>\n",
       "      <td>Avez-vous déjà rêvé de traverser l’océan vers ...</td>\n",
       "      <td>http://openagenda.com/event/latlantique-la-tra...</td>\n",
       "      <td>C’est en marchant dans la rade de Cherbourg qu...</td>\n",
       "      <td>Route du Champ de Manoeuvre, 75012 Paris</td>\n",
       "      <td>Paris</td>\n",
       "      <td>Théâtre de l'Epée de Bois - Cartoucherie</td>\n",
       "      <td>Île-de-France</td>\n",
       "      <td>2022-01-09</td>\n",
       "      <td>fr</td>\n",
       "      <td>Point</td>\n",
       "      <td>[2.450684, 48.835058]</td>\n",
       "      <td>NaN</td>\n",
       "    </tr>\n",
       "    <tr>\n",
       "      <th>160</th>\n",
       "      <td>BEN MAZUE</td>\n",
       "      <td>[48.766645, 1.948273]</td>\n",
       "      <td>2022-01-06</td>\n",
       "      <td>NaN</td>\n",
       "      <td>A partir de 22,00€</td>\n",
       "      <td>PARADIS TOUR</td>\n",
       "      <td>http://openagenda.com/event/ben-mazue-3064655</td>\n",
       "      <td>\" Pour moi le PARADIS c’est un endroit, c’est ...</td>\n",
       "      <td>Centre des 7 Mares</td>\n",
       "      <td>NaN</td>\n",
       "      <td>Le Prisme</td>\n",
       "      <td>NaN</td>\n",
       "      <td>2022-01-06</td>\n",
       "      <td>fr</td>\n",
       "      <td>Point</td>\n",
       "      <td>[1.948273, 48.766645]</td>\n",
       "      <td>NaN</td>\n",
       "    </tr>\n",
       "    <tr>\n",
       "      <th>161</th>\n",
       "      <td>Dîner de travail avec le président de la Répub...</td>\n",
       "      <td>[48.85889, 2.320041]</td>\n",
       "      <td>2022-01-06</td>\n",
       "      <td>NaN</td>\n",
       "      <td>NaN</td>\n",
       "      <td>Jean-Baptiste-Lemoyne</td>\n",
       "      <td>http://openagenda.com/event/diner-de-travail-a...</td>\n",
       "      <td>NaN</td>\n",
       "      <td>Paris</td>\n",
       "      <td>NaN</td>\n",
       "      <td>Palais de l'Elysée</td>\n",
       "      <td>Île-de-France</td>\n",
       "      <td>2022-01-06</td>\n",
       "      <td>fr</td>\n",
       "      <td>Point</td>\n",
       "      <td>[2.320041, 48.85889]</td>\n",
       "      <td>Paris</td>\n",
       "    </tr>\n",
       "  </tbody>\n",
       "</table>\n",
       "<p>162 rows × 17 columns</p>\n",
       "</div>"
      ],
      "text/plain": [
       "                                                 title                 latlon  \\\n",
       "0                                               Actif!  [48.867609, 2.352198]   \n",
       "1                            LE ROI LOUIS REND SON ÂME   [48.84834, 2.351983]   \n",
       "2    La Genèse de Vienne, un exemple de recherche i...  [48.866484, 2.338931]   \n",
       "3          Les étapes clés de la création d'entreprise  [48.787838, 2.050474]   \n",
       "4              GRANDES VOIX DE LA POÉSIE CONTEMPORAINE  [48.800506, 2.131408]   \n",
       "..                                                 ...                    ...   \n",
       "157                          Spectacle : Fabrice Eboué  [48.825113, 2.269746]   \n",
       "158              BLOCKCHAIN, DU THÉÂTRE AU FLASH CRASH  [48.712856, 2.164843]   \n",
       "159                        L'ATLANTIQUE / LA TRAVERSÉE  [48.835058, 2.450684]   \n",
       "160                                          BEN MAZUE  [48.766645, 1.948273]   \n",
       "161  Dîner de travail avec le président de la Répub...   [48.85889, 2.320041]   \n",
       "\n",
       "     date_start                                               tags  \\\n",
       "0    2022-01-11                                         Exposition   \n",
       "1    2022-01-11                                                NaN   \n",
       "2    2022-01-11  La Fabrique de l’art : utilisation des données...   \n",
       "3    2022-01-11                                                NaN   \n",
       "4    2022-01-11                                                NaN   \n",
       "..          ...                                                ...   \n",
       "157  2022-01-06                  Fabrice Eboué,humour,one man show   \n",
       "158  2022-01-06           Théâtre  Création scènique,Danse. vidéos   \n",
       "159  2022-01-06                                                NaN   \n",
       "160  2022-01-06                                                NaN   \n",
       "161  2022-01-06                                                NaN   \n",
       "\n",
       "                                          pricing_info  \\\n",
       "0                                      Sur inscription   \n",
       "1                                                  NaN   \n",
       "2                                                  NaN   \n",
       "3     Participation gratuite - Inscription obligatoire   \n",
       "4    Sur inscription  (Cycle de 6 conférences Tarif...   \n",
       "..                                                 ...   \n",
       "157                                                NaN   \n",
       "158  Gratuit sur inscription - pour 10-12 étudiants...   \n",
       "159                            payant, sur réservation   \n",
       "160                                 A partir de 22,00€   \n",
       "161                                                NaN   \n",
       "\n",
       "                                           description  \\\n",
       "0    Lorem ipsum dolor sit amet, consectetur adipis...   \n",
       "1                             Un jour dans l’histoire.   \n",
       "2                                            Séminaire   \n",
       "3                               Animé par BGE Yvelines   \n",
       "4    Un nouvel espace pour le poème : Philippe Jacc...   \n",
       "..                                                 ...   \n",
       "157                  Découvrez son nouveau spectacle !   \n",
       "158  Participer activement aux premières étapes d’u...   \n",
       "159  Avez-vous déjà rêvé de traverser l’océan vers ...   \n",
       "160                                       PARADIS TOUR   \n",
       "161                              Jean-Baptiste-Lemoyne   \n",
       "\n",
       "                                                  link  \\\n",
       "0                    http://openagenda.com/event/actif   \n",
       "1    http://openagenda.com/event/le-roi-louis-rend-...   \n",
       "2    http://openagenda.com/event/la-genese-de-vienn...   \n",
       "3    http://openagenda.com/event/les-etapes-cles-de...   \n",
       "4    http://openagenda.com/event/grandes-voix-de-la...   \n",
       "..                                                 ...   \n",
       "157  http://openagenda.com/event/spectacle-fabrice-...   \n",
       "158  http://openagenda.com/event/blockchain-du-thea...   \n",
       "159  http://openagenda.com/event/latlantique-la-tra...   \n",
       "160      http://openagenda.com/event/ben-mazue-3064655   \n",
       "161  http://openagenda.com/event/diner-de-travail-a...   \n",
       "\n",
       "                                             free_text  \\\n",
       "0    Lorem ipsum dolor sit amet, consectetur adipis...   \n",
       "1    Informations\\r\\n\\r\\nhttps://www.collegedesbern...   \n",
       "2    La Genèse de Vienne est un manuscrit écrit à l...   \n",
       "3    De l'idée au business plan, du financement au ...   \n",
       "4    Un nouvel espace pour le poème : Philippe Jacc...   \n",
       "..                                                 ...   \n",
       "157  Fabrice Eboué est un humoriste, metteur en scè...   \n",
       "158  Ce Projet Interdisciplinaire Collectif propose...   \n",
       "159  C’est en marchant dans la rade de Cherbourg qu...   \n",
       "160  \" Pour moi le PARADIS c’est un endroit, c’est ...   \n",
       "161                                                NaN   \n",
       "\n",
       "                                               address      department  \\\n",
       "0                         29 passage du ponceau, paris             NaN   \n",
       "1                20 Rue de Poissy, 75005 Paris, France           Paris   \n",
       "2           2, rue Vivienne ou 6 rue des Petits Champs           Paris   \n",
       "3                       3, avenue du centre guyancourt        Yvelines   \n",
       "4    6 impasse des Gendarmes, entrée B 78000 Versai...        Yvelines   \n",
       "..                                                 ...             ...   \n",
       "157        11-13 rue Danton, 92130 Issy-les-Moulineaux  Hauts-de-Seine   \n",
       "158             4 avenue des Sciences - Gif-sur-Yvette         Essonne   \n",
       "159           Route du Champ de Manoeuvre, 75012 Paris           Paris   \n",
       "160                                 Centre des 7 Mares             NaN   \n",
       "161                                              Paris             NaN   \n",
       "\n",
       "                                             placename         region  \\\n",
       "0                                              Test OA  Île-de-France   \n",
       "1                               Collège des Bernardins  Île-de-France   \n",
       "2    Institut national d'histoire de l'art - Galeri...  Île-de-France   \n",
       "3                                    Webinaire SQY Cub  Île-de-France   \n",
       "4                     Université Ouverte de Versailles  Île-de-France   \n",
       "..                                                 ...            ...   \n",
       "157                             Auditorium Niedermeyer  Île-de-France   \n",
       "158                                   ENS Paris-Saclay  Île-de-France   \n",
       "159           Théâtre de l'Epée de Bois - Cartoucherie  Île-de-France   \n",
       "160                                          Le Prisme            NaN   \n",
       "161                                 Palais de l'Elysée  Île-de-France   \n",
       "\n",
       "       date_end lang geometry.type   geometry.coordinates  \\\n",
       "0    2022-01-11   fr         Point  [2.352198, 48.867609]   \n",
       "1    2022-01-11   fr         Point   [2.351983, 48.84834]   \n",
       "2    2022-01-11   fr         Point  [2.338931, 48.866484]   \n",
       "3    2022-01-11   fr         Point  [2.050474, 48.787838]   \n",
       "4    2022-01-11   fr         Point  [2.131408, 48.800506]   \n",
       "..          ...  ...           ...                    ...   \n",
       "157  2022-01-06   fr         Point  [2.269746, 48.825113]   \n",
       "158  2022-04-15   fr         Point  [2.164843, 48.712856]   \n",
       "159  2022-01-09   fr         Point  [2.450684, 48.835058]   \n",
       "160  2022-01-06   fr         Point  [1.948273, 48.766645]   \n",
       "161  2022-01-06   fr         Point   [2.320041, 48.85889]   \n",
       "\n",
       "                                         city_district  \n",
       "0                              Paris 2e Arrondissement  \n",
       "1                                    5e Arrondissement  \n",
       "2                              Paris 2e Arrondissement  \n",
       "3                                                  NaN  \n",
       "4                                            Chantiers  \n",
       "..                                                 ...  \n",
       "157  Quartier Centre-Ville / Corentin Celton / Les ...  \n",
       "158                                                NaN  \n",
       "159                                                NaN  \n",
       "160                                                NaN  \n",
       "161                                              Paris  \n",
       "\n",
       "[162 rows x 17 columns]"
      ]
     },
     "execution_count": 60,
     "metadata": {},
     "output_type": "execute_result"
    }
   ],
   "source": [
    "# Query to extract a specific frame of time, the user desired date\n",
    "query = \"date_start < \" + str(Naclanga.date + dt.timedelta(days=7)) + \" AND date_start > \"  + str(Naclanga.date)\n",
    "\n",
    "# Request. We can extract up to 1000 rows but it can be time consuming, that's why we restrict the timeframe\n",
    "url = \"https://data.iledefrance.fr/api/records/1.0/search/?dataset=evenements-publics-cibul&q=&rows=1000&q=(\" + query + \")&sort=date_start\"\n",
    "req = requests.get(url)\n",
    "df = pd.json_normalize(req.json()['records'])\n",
    "\n",
    "# Rename the columns\n",
    "important_keys = [\"fields.title\", \"fields.latlon\", \"fields.date_start\", \"fields.tags\", \"fields.pricing_info\", \"fields.description\",'fields.link', 'fields.free_text', 'fields.address', 'fields.department','fields.placename', 'fields.region', 'fields.date_end', 'fields.lang', 'geometry.type', 'geometry.coordinates', 'fields.city_district']\n",
    "df = df[important_keys]\n",
    "dict_important_keys = {elt : elt.replace(\"fields.\", \"\") for elt in important_keys}\n",
    "df.rename(columns = dict_important_keys, inplace=True)\n",
    "\n",
    "df_to_treat = df.copy()\n",
    "df_to_treat"
   ]
  },
  {
   "cell_type": "markdown",
   "id": "a88063cd-8c47-4da5-b061-271075afcc67",
   "metadata": {
    "tags": []
   },
   "source": [
    "### Calcul de la distance\n",
    "\n",
    "Grâce aux informations contenues dans le tableau et celles fournies par l'utilisateur. On peut calculer la distance géographique entre l'évènement et l'adresse de l'utilisateur"
   ]
  },
  {
   "cell_type": "code",
   "execution_count": 61,
   "id": "7c689ba4-0deb-4b39-a4bb-30d285387498",
   "metadata": {},
   "outputs": [
    {
     "data": {
      "text/plain": [
       "0      20.568634\n",
       "1      18.805619\n",
       "2      19.943270\n",
       "3      13.712115\n",
       "4      10.917727\n",
       "         ...    \n",
       "157    13.522649\n",
       "158     2.486443\n",
       "159    22.968973\n",
       "160    19.357635\n",
       "161    18.518427\n",
       "Name: distance, Length: 162, dtype: float64"
      ]
     },
     "execution_count": 61,
     "metadata": {},
     "output_type": "execute_result"
    }
   ],
   "source": [
    "df_to_treat['distance'] = df['latlon'].apply(lambda x: distance.distance(x, Naclanga.latlon).km)\n",
    "df_to_treat['distance']"
   ]
  },
  {
   "cell_type": "markdown",
   "id": "bffcb031-ec2a-459e-8d68-0db6c3348dda",
   "metadata": {
    "tags": []
   },
   "source": [
    "### Extraction du prix\n",
    "\n",
    "Dans ce second cas les informations sont dans le tableau mais pas sous une forme très utile. Par conséquent on utilise les expressions régulières pour obtenir des prix en nombre"
   ]
  },
  {
   "cell_type": "code",
   "execution_count": 65,
   "id": "ed85cf3c-4fc8-4c03-9dec-571cf1551dab",
   "metadata": {},
   "outputs": [
    {
     "name": "stderr",
     "output_type": "stream",
     "text": [
      "/opt/conda/lib/python3.9/site-packages/numpy/core/fromnumeric.py:3419: RuntimeWarning: Mean of empty slice.\n",
      "  return _methods._mean(a, axis=axis, dtype=dtype,\n"
     ]
    }
   ],
   "source": [
    "def extract_price_regex(x):\n",
    "    ''' Returns an estimation of the price of the event '''\n",
    "    \n",
    "    # Multiple price can be there so we are going to find them all and compute the mean\n",
    "    L = []\n",
    "    for k in re.findall(\"\\S+\\s?€\", str(x)):\n",
    "        try:\n",
    "            a = float(k.replace(\"€\", \"\").replace(\",\", \".\")) # Conversion\n",
    "\n",
    "        # If there is no price or it doesn't work\n",
    "        except ValueError:\n",
    "            a = float(\"NaN\")\n",
    "        \n",
    "        L.append(a)\n",
    "        \n",
    "    return np.mean(L)\n",
    "\n",
    "df_to_treat['pricing_info'] = df['pricing_info'].apply(lambda x:extract_price_regex(x))"
   ]
  },
  {
   "cell_type": "code",
   "execution_count": 66,
   "id": "a606f48d-2d0f-48e4-b631-36e9b79bdc9d",
   "metadata": {},
   "outputs": [
    {
     "data": {
      "text/plain": [
       "0         NaN\n",
       "1         NaN\n",
       "2         NaN\n",
       "3         NaN\n",
       "4      108.18\n",
       "        ...  \n",
       "157       NaN\n",
       "158       NaN\n",
       "159       NaN\n",
       "160     22.00\n",
       "161       NaN\n",
       "Name: pricing_info, Length: 162, dtype: float64"
      ]
     },
     "execution_count": 66,
     "metadata": {},
     "output_type": "execute_result"
    }
   ],
   "source": [
    "df_to_treat['pricing_info']"
   ]
  },
  {
   "cell_type": "markdown",
   "id": "3662c0d1-7f7b-4015-8ba7-c33fee01d690",
   "metadata": {
    "tags": []
   },
   "source": [
    "### Extraction des horaires\n",
    "\n",
    "Dans le troisième cas, l'information n'est pas dans le tableau mais on peut la trouver grâce au lien associé, d'où l'utilisation de webscraping."
   ]
  },
  {
   "cell_type": "code",
   "execution_count": 7,
   "id": "39db5ef3-006a-4fd8-a853-28b15cbfdb56",
   "metadata": {},
   "outputs": [],
   "source": [
    "def get_text(link):\n",
    "    ''' Requests the html code of the page '''\n",
    "    request_text = request.urlopen(link).read()\n",
    "    page = bs4.BeautifulSoup(request_text)\n",
    "    return(page)\n",
    "\n",
    "def get_hours_regex(text):\n",
    "    ''' Returns the hours of opening on the html page '''\n",
    "    return str(text.select('span.hour')[0]).replace('<span class=\"hour\">', \"\").replace(\"</span>\", \"\")\n",
    "    \n",
    "def get_timespan(link):\n",
    "    ''' Given a link, this function uses the last two to return the hours of opening '''\n",
    "\n",
    "    try:\n",
    "        text = get_text(link)\n",
    "        hours = get_hours_regex(text).split('-')\n",
    "        hours[0] = hours[0].replace(\" \", \"\")\n",
    "        hours[1] = hours[1].replace(\" \", \"\")\n",
    "\n",
    "    except (urllib.error.HTTPError, IndexError): # If the Event is not correctly setup (error 404) or the event is not accessible (error 403)\n",
    "        hours = float(\"NaN\")\n",
    "        \n",
    "    return hours\n",
    "\n",
    "# Time consuming, so we should get all information at once to avoid doing too much webscraping\n",
    "df_to_treat['opening_hours'] = df['link'].apply(lambda link: get_timespan(link))\n",
    "\n",
    "# Should we differency ponctual events (movies, plays, sports) and long running events (expositions) ?\n",
    "# -> We can probably do it judging the timespan of the events in terms of days and hours, but is it useful ?"
   ]
  },
  {
   "cell_type": "code",
   "execution_count": 8,
   "id": "22e381e0-4672-490f-b324-d2729fe5609b",
   "metadata": {},
   "outputs": [
    {
     "data": {
      "text/plain": [
       "0      [10:00, 11:30]\n",
       "1      [12:45, 13:45]\n",
       "2      [14:00, 16:30]\n",
       "3      [14:00, 18:00]\n",
       "4      [16:30, 18:00]\n",
       "            ...      \n",
       "157    [20:30, 22:00]\n",
       "158    [14:00, 16:00]\n",
       "159    [21:00, 22:15]\n",
       "160    [20:30, 22:30]\n",
       "161    [20:00, 20:30]\n",
       "Name: opening_hours, Length: 162, dtype: object"
      ]
     },
     "execution_count": 8,
     "metadata": {},
     "output_type": "execute_result"
    }
   ],
   "source": [
    "df_to_treat['opening_hours']"
   ]
  },
  {
   "cell_type": "code",
   "execution_count": 9,
   "id": "f1d08d52-0ea4-41de-b4f6-28f269b8600e",
   "metadata": {},
   "outputs": [
    {
     "data": {
      "text/plain": [
       "0      0 days 01:30:00\n",
       "1      0 days 01:00:00\n",
       "2      0 days 02:30:00\n",
       "3      0 days 04:00:00\n",
       "4      0 days 01:30:00\n",
       "            ...       \n",
       "157    0 days 01:30:00\n",
       "158   99 days 02:00:00\n",
       "159    3 days 01:15:00\n",
       "160    0 days 02:00:00\n",
       "161    0 days 00:30:00\n",
       "Name: duration, Length: 162, dtype: timedelta64[ns]"
      ]
     },
     "execution_count": 9,
     "metadata": {},
     "output_type": "execute_result"
    }
   ],
   "source": [
    "def duration(t):\n",
    "    ''' '''\n",
    "    try:\n",
    "        end = dt.datetime.combine(dt.date.fromisoformat(str(t['date_end'])), dt.time.fromisoformat(str(t['opening_hours'][1])))\n",
    "        start = dt.datetime.combine(dt.date.fromisoformat(str(t['date_start'])), dt.time.fromisoformat(str(t['opening_hours'][0])))\n",
    "    \n",
    "        return end - start\n",
    "    \n",
    "    except TypeError:\n",
    "        \n",
    "        return float(\"NaN\")\n",
    "\n",
    "df_to_treat['duration'] = df_to_treat[['opening_hours','date_end', 'date_start']].apply(lambda x: duration(x), axis=1)\n",
    "df_to_treat['duration']"
   ]
  },
  {
   "cell_type": "markdown",
   "id": "cfe368a3-2323-4ea4-8fb1-2ec419011a12",
   "metadata": {
    "tags": []
   },
   "source": [
    "## Natural Language Processing"
   ]
  },
  {
   "cell_type": "markdown",
   "id": "87a1e132-7774-4886-98f2-3cc3803456b5",
   "metadata": {
    "tags": []
   },
   "source": [
    "### Création de Labels\n",
    "\n",
    "Nous allons chercher les mots les plus utilisés pour créer des labels. Ici, on utilise toute la base de données sans faire de requête pour avoir le maximum de données"
   ]
  },
  {
   "cell_type": "code",
   "execution_count": 10,
   "id": "cc2bbb1d-1770-4e7c-912b-0daa1bbf2a56",
   "metadata": {},
   "outputs": [
    {
     "name": "stderr",
     "output_type": "stream",
     "text": [
      "/opt/conda/lib/python3.9/site-packages/IPython/core/interactiveshell.py:3444: DtypeWarning: Columns (21) have mixed types.Specify dtype option on import or set low_memory=False.\n",
      "  exec(code_obj, self.user_global_ns, self.user_ns)\n"
     ]
    }
   ],
   "source": [
    "database = pd.read_csv('events_database.zip', compression='zip', header=0, sep=';')"
   ]
  },
  {
   "cell_type": "code",
   "execution_count": 11,
   "id": "9d514e9c-81f6-4424-9eae-3de14a2198fe",
   "metadata": {},
   "outputs": [
    {
     "data": {
      "text/html": [
       "<div>\n",
       "<style scoped>\n",
       "    .dataframe tbody tr th:only-of-type {\n",
       "        vertical-align: middle;\n",
       "    }\n",
       "\n",
       "    .dataframe tbody tr th {\n",
       "        vertical-align: top;\n",
       "    }\n",
       "\n",
       "    .dataframe thead th {\n",
       "        text-align: right;\n",
       "    }\n",
       "</style>\n",
       "<table border=\"1\" class=\"dataframe\">\n",
       "  <thead>\n",
       "    <tr style=\"text-align: right;\">\n",
       "      <th></th>\n",
       "      <th>Description</th>\n",
       "      <th>Détails</th>\n",
       "      <th>Mots clés</th>\n",
       "    </tr>\n",
       "  </thead>\n",
       "  <tbody>\n",
       "    <tr>\n",
       "      <th>0</th>\n",
       "      <td>Découvrir le poney dans un séjour multisports ...</td>\n",
       "      <td>L'UCPA propose ses vacances apprenantes : Un s...</td>\n",
       "      <td>UCPA,sport,nature,SFJBOI31E,import-ucpa-20200630</td>\n",
       "    </tr>\n",
       "    <tr>\n",
       "      <th>1</th>\n",
       "      <td>Un séjour qui combine sport, collectivité et f...</td>\n",
       "      <td>Cette colo te permettra de découvrir les multi...</td>\n",
       "      <td>jeux olympiques,sport,import-pep</td>\n",
       "    </tr>\n",
       "    <tr>\n",
       "      <th>2</th>\n",
       "      <td>Le top de la glisse de la côte californienne</td>\n",
       "      <td>L'UCPA propose ses vacances apprenantes : Un s...</td>\n",
       "      <td>UCPA,sport,nature,SFJPON34R,import-ucpa-20200630</td>\n",
       "    </tr>\n",
       "    <tr>\n",
       "      <th>3</th>\n",
       "      <td>Compagnie AtmosphèreS - mise en scène : Sara V...</td>\n",
       "      <td>Camille, Camille, Camille\\n-------------------...</td>\n",
       "      <td>Camille Claudel,Rodin,Paul claudel,sculptrice,...</td>\n",
       "    </tr>\n",
       "    <tr>\n",
       "      <th>4</th>\n",
       "      <td>Mise en scène par Agnès Braunschweig. Cie Pros...</td>\n",
       "      <td>Je reviens de la vérité de Charlotte Delbo. Mi...</td>\n",
       "      <td>Résistance,Déportation,Deuxième guerre mondial...</td>\n",
       "    </tr>\n",
       "  </tbody>\n",
       "</table>\n",
       "</div>"
      ],
      "text/plain": [
       "                                         Description  \\\n",
       "0  Découvrir le poney dans un séjour multisports ...   \n",
       "1  Un séjour qui combine sport, collectivité et f...   \n",
       "2       Le top de la glisse de la côte californienne   \n",
       "3  Compagnie AtmosphèreS - mise en scène : Sara V...   \n",
       "4  Mise en scène par Agnès Braunschweig. Cie Pros...   \n",
       "\n",
       "                                             Détails  \\\n",
       "0  L'UCPA propose ses vacances apprenantes : Un s...   \n",
       "1  Cette colo te permettra de découvrir les multi...   \n",
       "2  L'UCPA propose ses vacances apprenantes : Un s...   \n",
       "3  Camille, Camille, Camille\\n-------------------...   \n",
       "4  Je reviens de la vérité de Charlotte Delbo. Mi...   \n",
       "\n",
       "                                           Mots clés  \n",
       "0   UCPA,sport,nature,SFJBOI31E,import-ucpa-20200630  \n",
       "1                   jeux olympiques,sport,import-pep  \n",
       "2   UCPA,sport,nature,SFJPON34R,import-ucpa-20200630  \n",
       "3  Camille Claudel,Rodin,Paul claudel,sculptrice,...  \n",
       "4  Résistance,Déportation,Deuxième guerre mondial...  "
      ]
     },
     "execution_count": 11,
     "metadata": {},
     "output_type": "execute_result"
    }
   ],
   "source": [
    "database[['Description', 'Détails', 'Mots clés']].head(5)"
   ]
  },
  {
   "cell_type": "code",
   "execution_count": 12,
   "id": "4173942d-90f0-4bc1-8c5f-6d0e37907fbe",
   "metadata": {},
   "outputs": [
    {
     "data": {
      "text/plain": [
       "0         Découvrir le poney dans un séjour multisports ...\n",
       "1         Un séjour qui combine sport, collectivité et f...\n",
       "2         Le top de la glisse de la côte californienne. ...\n",
       "3         Compagnie AtmosphèreS - mise en scène : Sara V...\n",
       "4         Mise en scène par Agnès Braunschweig. Cie Pros...\n",
       "                                ...                        \n",
       "142884    Théâtre - Conférence / À partir de 14 ans   Pe...\n",
       "142885    J'AI DES DOUTES. Molière 2019 du Comédien dans...\n",
       "142886    Jazz vocal      Une formation alliant l’esprit...\n",
       "142887    Théâtre   « Femme, réveille-toi » disait Olymp...\n",
       "142888    CATCH D'IMPRO Encadrés par un arbitre qui s’oc...\n",
       "Length: 142889, dtype: object"
      ]
     },
     "execution_count": 12,
     "metadata": {},
     "output_type": "execute_result"
    }
   ],
   "source": [
    "def NaN_to_String(dataframe):\n",
    "    ''' Convert the NaN value to Empty String and returns a cleaner text '''\n",
    "    df_temp = dataframe.copy()\n",
    "    df_temp[df_temp.isna()] = \"\"\n",
    "    return df_temp.apply(lambda s: s.replace(\"\\n\", \"\").replace(\"\\r\", \"\") + \". \")\n",
    "\n",
    "# Variable containing every piece of possibly useful text in the database\n",
    "text_desc = (NaN_to_String(database['Description']) + NaN_to_String(database['Détails']) + NaN_to_String(database['Mots clés']).apply(lambda s: s.replace(\",\", \", \")))\n",
    "text_desc"
   ]
  },
  {
   "cell_type": "markdown",
   "id": "e7920a90-5e59-4425-8129-6609df449bfb",
   "metadata": {},
   "source": [
    "Premier test\n",
    "\n",
    "On cherche les mots les plus utilisés grâce au module nltk en enlevant les mots qui ne sont pas composés de caractère alphabétique et les mots les plus usités en français (stop_words : le, la ...)"
   ]
  },
  {
   "cell_type": "code",
   "execution_count": 13,
   "id": "a394241f-43cd-4609-b1a0-f0742401afa5",
   "metadata": {},
   "outputs": [],
   "source": [
    "text = text_desc.head(100).sum().lower() # We use only 1000 rows but we can go higher, it just take more time\n",
    "words = nltk.word_tokenize(text, language='french')\n",
    "words = [word for word in words if word.isalpha()]\n",
    "words = [w for w in words if not w in stop_words]\n",
    "dic_words = Counter(words)"
   ]
  },
  {
   "cell_type": "code",
   "execution_count": 14,
   "id": "e512a159-b29e-49b0-b749-2dace8655f54",
   "metadata": {},
   "outputs": [
    {
     "data": {
      "text/plain": [
       "[('a', 55),\n",
       " ('https', 46),\n",
       " ('cette', 34),\n",
       " ('plus', 30),\n",
       " ('université', 30),\n",
       " ('the', 25),\n",
       " ('formation', 24),\n",
       " ('paris', 21),\n",
       " ('tout', 20),\n",
       " ('spectacle', 19),\n",
       " ('art', 19),\n",
       " ('cadre', 17),\n",
       " ('comment', 17),\n",
       " ('projet', 16),\n",
       " ('recherche', 15),\n",
       " ('of', 15),\n",
       " ('and', 15),\n",
       " ('atelier', 15),\n",
       " ('décembre', 15),\n",
       " ('séjour', 14)]"
      ]
     },
     "execution_count": 14,
     "metadata": {},
     "output_type": "execute_result"
    }
   ],
   "source": [
    "dic_words.most_common(20)"
   ]
  },
  {
   "cell_type": "markdown",
   "id": "ced41ae9-e2bd-40c4-b42b-874269bd0890",
   "metadata": {},
   "source": [
    "Comme on peut le voir beaucoup de mots ne correspondent pas à nos attentes, certains ne sont même pas des mots d'ailleurs.\n",
    "\n",
    "Une idée serait d'utiliser une méthode d'étiquettage morpho syntaxique, ainsi on pourrait conserver seulement les noms communs. Pour cela il faut utiliser spacy plutôt que nltk car le français n'est pas supporté pour cette méthode dans nltk."
   ]
  },
  {
   "cell_type": "markdown",
   "id": "1e681d8a-544a-4827-b6ec-a87f09860321",
   "metadata": {},
   "source": [
    "Second Test : L'étiquettage morpho-syntaxique"
   ]
  },
  {
   "cell_type": "code",
   "execution_count": 15,
   "id": "ae528797-8179-451f-a95b-f0098598afe6",
   "metadata": {},
   "outputs": [],
   "source": [
    "def return_POS(sentence, n = -1):\n",
    "    ''' Returns a list of tags, there are the most used nouns in the database. n is the number of tags that we want. If n = -1, every possible tags are returned '''\n",
    "    \n",
    "    # Tokenize\n",
    "    doc = nlp(sentence)\n",
    "    \n",
    "    # We only keep words being labellized as nouns\n",
    "    words = [[X.lemma_, X.lemma_] for X in doc if (X.is_alpha == True and X.pos_ == \"NOUN\" and not(X in stop_words))]\n",
    "    df_words = pd.DataFrame(words, columns=['tags', 'unique_tags'])\n",
    "    \n",
    "    if n == -1:\n",
    "        return list(df_words.groupby(['unique_tags']).count().sort_values('tags', ascending=False).to_dict()['tags'].keys())\n",
    "    else:\n",
    "        return list(df_words.groupby(['unique_tags']).count().sort_values('tags', ascending=False).head(n).to_dict()['tags'].keys())"
   ]
  },
  {
   "cell_type": "code",
   "execution_count": 16,
   "id": "6afc8515-d65d-46ac-9121-8bb3b0de3e0a",
   "metadata": {},
   "outputs": [
    {
     "data": {
      "text/plain": [
       "['musique',\n",
       " 'atelier',\n",
       " 'théâtre',\n",
       " 'concert',\n",
       " 'projet',\n",
       " 'visite',\n",
       " 'scène',\n",
       " 'monde',\n",
       " 'histoire',\n",
       " 'année',\n",
       " 'groupe',\n",
       " 'samedi',\n",
       " 'exposition',\n",
       " 'jeu',\n",
       " 'public',\n",
       " 'enfant',\n",
       " 'spectacle',\n",
       " 'an',\n",
       " 'place',\n",
       " 'dimanche',\n",
       " 'création',\n",
       " 'rencontre',\n",
       " 'conférence',\n",
       " 'recherche',\n",
       " 'association',\n",
       " 'vie',\n",
       " 'aide',\n",
       " 'travers',\n",
       " 'cadre',\n",
       " 'découverte',\n",
       " 'festival',\n",
       " 'temps',\n",
       " 'artiste',\n",
       " 'maison',\n",
       " 'formation',\n",
       " 'œuvre',\n",
       " 'danse',\n",
       " 'siècle',\n",
       " 'musée',\n",
       " 'travail',\n",
       " 'ville',\n",
       " 'soirée',\n",
       " 'journée',\n",
       " 'heure',\n",
       " 'université',\n",
       " 'occasion',\n",
       " 'programme',\n",
       " 'chanson',\n",
       " 'centre',\n",
       " 'rue']"
      ]
     },
     "execution_count": 16,
     "metadata": {},
     "output_type": "execute_result"
    }
   ],
   "source": [
    "tags = return_POS(text_desc.head(1000).sum().lower(), 50)\n",
    "tags"
   ]
  },
  {
   "cell_type": "code",
   "execution_count": 17,
   "id": "20b26090-f987-41e0-9aed-ee229dde2701",
   "metadata": {},
   "outputs": [],
   "source": [
    "df_to_treat['text'] = (NaN_to_String(df['tags']) + NaN_to_String(df['title']) + NaN_to_String(df['description']) + NaN_to_String(df['free_text'])).apply(lambda s: s.replace(\",\", \", \"))\n",
    "df_to_treat['tags'] = df_to_treat['text'].apply(lambda x:return_POS(x.lower()))\n",
    "df_to_treat['tags'] = df_to_treat['tags'].apply(lambda x: [k for k in x if k in tags])"
   ]
  },
  {
   "cell_type": "code",
   "execution_count": 18,
   "id": "2053ee30-c30b-463e-8847-1d08e026db10",
   "metadata": {},
   "outputs": [
    {
     "data": {
      "text/plain": [
       "0                                           [exposition]\n",
       "1                                             [histoire]\n",
       "2      [recherche, histoire, œuvre, centre, projet, u...\n",
       "3                                     [création, projet]\n",
       "4                                                [monde]\n",
       "                             ...                        \n",
       "157    [spectacle, scène, public, monde, occasion, th...\n",
       "158    [création, projet, théâtre, musique, danse, re...\n",
       "159    [spectacle, scène, travail, vie, dimanche, heu...\n",
       "160        [concert, spectacle, théâtre, artiste, heure]\n",
       "161                                            [travail]\n",
       "Name: tags, Length: 162, dtype: object"
      ]
     },
     "execution_count": 18,
     "metadata": {},
     "output_type": "execute_result"
    }
   ],
   "source": [
    "df_to_treat['tags'] "
   ]
  },
  {
   "cell_type": "code",
   "execution_count": 45,
   "id": "745cc812-365e-40a5-89d5-c3bcd0d58fc1",
   "metadata": {},
   "outputs": [],
   "source": [
    "df_to_treat[df_to_treat['tags'].apply(lambda x:x==[])]"
   ]
  },
  {
   "cell_type": "markdown",
   "id": "548430c7-4072-49e9-b83f-d9e94f3fe5af",
   "metadata": {},
   "source": [
    "## Visualisation"
   ]
  },
  {
   "cell_type": "code",
   "execution_count": 62,
   "id": "4239b8ce-5cdc-46b5-a726-1734c053a258",
   "metadata": {},
   "outputs": [
    {
     "data": {
      "text/plain": [
       "<AxesSubplot:>"
      ]
     },
     "execution_count": 62,
     "metadata": {},
     "output_type": "execute_result"
    },
    {
     "data": {
      "image/png": "[encoded data removed]",
      "text/plain": [
       "<Figure size 432x288 with 1 Axes>"
      ]
     },
     "metadata": {
      "needs_background": "light"
     },
     "output_type": "display_data"
    }
   ],
   "source": [
    "df_to_treat['distance'].hist()"
   ]
  },
  {
   "cell_type": "code",
   "execution_count": 52,
   "id": "0deb225f-1cdb-4fc1-9099-fb73e6ddc678",
   "metadata": {},
   "outputs": [
    {
     "data": {
      "text/plain": [
       "<AxesSubplot:>"
      ]
     },
     "execution_count": 56,
     "metadata": {},
     "output_type": "execute_result"
    },
    {
     "data": {
      "image/png": "[encoded data removed]",
      "text/plain": [
       "<Figure size 432x288 with 1 Axes>"
      ]
     },
     "metadata": {
      "needs_background": "light"
     },
     "output_type": "display_data"
    }
   ],
   "source": [
    "#df_to_treat['distance'].hist()"
   ]
  },
  {
   "cell_type": "code",
   "execution_count": 51,
   "id": "58d7b402-ab87-41cc-965f-f7b2b838631e",
   "metadata": {},
   "outputs": [
    {
     "data": {
      "text/plain": [
       "<AxesSubplot:xlabel='duration'>"
      ]
     },
     "execution_count": 51,
     "metadata": {},
     "output_type": "execute_result"
    },
    {
     "data": {
      "image/png": "[encoded data removed]",
      "text/plain": [
       "<Figure size 432x288 with 1 Axes>"
      ]
     },
     "metadata": {
      "needs_background": "light"
     },
     "output_type": "display_data"
    }
   ],
   "source": [
    "df_to_treat.reset_index()[df_to_treat[\"duration\"].apply(lambda s:s >= dt.timedelta(days = 0) and s <= dt.timedelta(days = 1))].groupby(pd.Grouper(key=\"duration\", freq='H'))['index'].count().plot(kind=\"bar\")"
   ]
  },
  {
   "cell_type": "code",
   "execution_count": 48,
   "id": "798a7250-23cc-41ee-9bb0-f43b51689685",
   "metadata": {},
   "outputs": [
    {
     "name": "stdout",
     "output_type": "stream",
     "text": [
      "123\n"
     ]
    },
    {
     "data": {
      "text/plain": [
       "<AxesSubplot:xlabel='duration'>"
      ]
     },
     "execution_count": 48,
     "metadata": {},
     "output_type": "execute_result"
    },
    {
     "data": {
      "image/png": "[encoded data removed]",
      "text/plain": [
       "<Figure size 432x288 with 1 Axes>"
      ]
     },
     "metadata": {
      "needs_background": "light"
     },
     "output_type": "display_data"
    }
   ],
   "source": [
    "print(len(df_to_treat[df_to_treat[\"date_start\"] == df_to_treat[\"date_end\"]]))\n",
    "df_to_treat.reset_index()[df_to_treat[\"duration\"].apply(lambda s:s >= dt.timedelta(days = 0) and s <= dt.timedelta(days = 7))].groupby(pd.Grouper(key=\"duration\", freq='D'))['index'].count().plot(kind=\"bar\")"
   ]
  },
  {
   "cell_type": "code",
   "execution_count": 73,
   "id": "79828877-cbd4-4162-abfa-4553773c2721",
   "metadata": {},
   "outputs": [
    {
     "name": "stdout",
     "output_type": "stream",
     "text": [
      "49\n"
     ]
    },
    {
     "data": {
      "text/plain": [
       "<AxesSubplot:>"
      ]
     },
     "execution_count": 73,
     "metadata": {},
     "output_type": "execute_result"
    },
    {
     "data": {
      "image/png": "[encoded data removed]",
      "text/plain": [
       "<Figure size 432x288 with 1 Axes>"
      ]
     },
     "metadata": {
      "needs_background": "light"
     },
     "output_type": "display_data"
    }
   ],
   "source": [
    "print(len(df_to_treat[df_to_treat['pricing_info'].notna()]))\n",
    "df_to_treat['pricing_info'].hist()"
   ]
  },
  {
   "cell_type": "code",
   "execution_count": null,
   "id": "3c773a3a-b90b-4c6b-bab9-107155621995",
   "metadata": {},
   "outputs": [],
   "source": []
  }
 ],
 "metadata": {
  "kernelspec": {
   "display_name": "Python 3 (ipykernel)",
   "language": "python",
   "name": "python3"
  },
  "language_info": {
   "codemirror_mode": {
    "name": "ipython",
    "version": 3
   },
   "file_extension": ".py",
   "mimetype": "text/x-python",
   "name": "python",
   "nbconvert_exporter": "python",
   "pygments_lexer": "ipython3",
   "version": "3.9.7"
  }
 },
 "nbformat": 4,
 "nbformat_minor": 5
}
